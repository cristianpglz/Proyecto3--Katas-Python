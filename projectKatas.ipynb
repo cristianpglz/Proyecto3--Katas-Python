{
 "cells": [
  {
   "cell_type": "code",
   "execution_count": null,
   "id": "328ea5d8",
   "metadata": {},
   "outputs": [
    {
     "ename": "",
     "evalue": "",
     "output_type": "error",
     "traceback": [
      "\u001b[1;31mRunning cells with '.conda (Python 3.11.13)' requires the ipykernel package.\n",
      "\u001b[1;31mInstall 'ipykernel' into the Python environment. \n",
      "\u001b[1;31mCommand: 'conda install -n .conda ipykernel --update-deps --force-reinstall'"
     ]
    }
   ],
   "source": [
    "\"\"\"\n",
    "1.\n",
    "Escribe una función que reciba una cadena de texto como parámetro y devuelva un diccionario con las \n",
    "frecuencias de cada letra en la cadena. Los espacios no deben ser considerados.\n",
    "\"\"\"\n",
    "def letterFrequency(text = \"Esta es una cadena de texto de ejemplo\"):\n",
    "    listText = {}\n",
    "    for char in text.lower():\n",
    "        if char == \" \":\n",
    "            continue\n",
    "        if char in listText:\n",
    "            listText[char] += 1\n",
    "        else:\n",
    "            listText[char] = 1\n",
    "       \n",
    "    return listText\n",
    "inputText = input(\"Ingrese un texto: \")\n",
    "print(letterFrequency(inputText))"
   ]
  }
 ],
 "metadata": {
  "kernelspec": {
   "display_name": ".conda",
   "language": "python",
   "name": "python3"
  },
  "language_info": {
   "name": "python",
   "version": "3.11.13"
  }
 },
 "nbformat": 4,
 "nbformat_minor": 5
}

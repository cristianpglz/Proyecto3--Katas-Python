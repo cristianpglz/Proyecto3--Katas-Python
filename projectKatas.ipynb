{
 "cells": [
  {
   "cell_type": "code",
   "execution_count": null,
   "id": "328ea5d8",
   "metadata": {},
   "outputs": [
    {
     "name": "stdout",
     "output_type": "stream",
     "text": [
      "Error,el valor debe ser una cadena de texto\n"
     ]
    }
   ],
   "source": [
    "\"\"\"\n",
    "1.\n",
    "Escribe una función que reciba una cadena de texto como parámetro y devuelva un diccionario con las \n",
    "frecuencias de cada letra en la cadena. Los espacios no deben ser considerados.\n",
    "\"\"\"\n",
    "def letterFrequency(text = \"Esta es una cadena de texto de ejemplo\"):\n",
    "    listText = {}\n",
    "    for char in text.lower():\n",
    "        if char == \" \":\n",
    "            continue\n",
    "        if char.isdigit():\n",
    "            return \"Error,el valor debe ser una cadena de texto\"\n",
    "        if char in listText:\n",
    "            listText[char] += 1   \n",
    "        else:\n",
    "            listText[char] = 1\n",
    "    return listText\n",
    "inputText = input(\"Ingrese un texto: \")\n",
    "print(letterFrequency(inputText))"
   ]
  },
  {
   "cell_type": "code",
   "execution_count": 10,
   "id": "6f0d8bd4",
   "metadata": {},
   "outputs": [
    {
     "name": "stdout",
     "output_type": "stream",
     "text": [
      "[2, 4, 6, 8, 10, 12, 14, 16, 18, 20]\n",
      "[2, 4, 6, 8, 10, 12, 14, 16, 18, 20]\n"
     ]
    }
   ],
   "source": [
    "\"\"\"\n",
    "2.Dada una lista de números, obtén una nueva lista con el doble de cada valor. Usa la función map().\n",
    "\"\"\"\n",
    "numberList = [1,2,3,4,5,6,7,8,9,10]\n",
    "def numberDoble(number):\n",
    "    return number * 2\n",
    "listValues = list(map(numberDoble, numberList))\n",
    "print(listValues)\n",
    "\n",
    "\n",
    "\"Otra manera mas corta para hacerlo es usando una función lambda que es una funcion anónima.\"\n",
    "doubleNumber = list(map(lambda x: x * 2, numberList))\n",
    "print(doubleNumber)"
   ]
  },
  {
   "cell_type": "code",
   "execution_count": null,
   "id": "7ea1f9c1",
   "metadata": {},
   "outputs": [
    {
     "name": "stdout",
     "output_type": "stream",
     "text": [
      "Palabras que comienzan con 'la':\n",
      "- hola\n",
      "- holanda\n"
     ]
    }
   ],
   "source": [
    "\"\"\" \n",
    "3.Escribe una función que tome una lista de palabras y una palabra objetivo como parámetros. \n",
    "La función debe devolver una lista con todas las palabras de la lista original que contengan la palabra objetivo.\n",
    "\"\"\"\n",
    "from IPython.display import clear_output\n",
    "import os\n",
    "wordsList = [\"hola\", \"adios\", \"dios\", \"estas\", \"arranca\", \"holanda\", \"estanteria\"] #Lista de palabras\n",
    "\n",
    "\n",
    "def clearWindow(): #Funcion para limpiar la consola\n",
    "    clear_output(wait=True)\n",
    "    if os.name == 'nt' or os.name == 'dos':\n",
    "        os.system('cls')\n",
    "        os.system('clear')\n",
    "\n",
    "        \n",
    "def search_and_print(word_list, target_word): #Funcion que busca y muestra las palabras que comienzan con la palabra objetivo\n",
    "    results = [word for word in word_list if target_word.lower() in word.lower()]\n",
    "    while True:\n",
    "        if results:\n",
    "            print(f\"Palabras que comienzan con '{target_word}':\")\n",
    "            for word in results:\n",
    "                print(f\"- {word}\")\n",
    "        else: \n",
    "            print(f\"No se encontraron palabras que comiencen con '{target_word}'.Vuelva a intentarlo.\")\n",
    "            return False \n",
    "        return True\n",
    "\n",
    "def questText(): #Funcion que pregunta por la palabra objetivo y maneja los posibles errores\n",
    "    while True:\n",
    "        try:\n",
    "            targetWord = input(\"Ingrese la palabra que desea buscar: \")\n",
    "\n",
    "            if targetWord.isdigit() or not targetWord.replace(' ', '').isalpha():\n",
    "                print(\"Error, el valor debe ser una cadena de texto\")\n",
    "                clearWindow()\n",
    "                continue \n",
    "            else:\n",
    "                result = search_and_print(wordsList, targetWord)\n",
    "                if result:\n",
    "                    break\n",
    "                else:\n",
    "                    clearWindow()\n",
    "                    continue\n",
    "        except KeyboardInterrupt:\n",
    "            print(\"Programa interrumpido por el usuario. Cerrando...\")\n",
    "            break\n",
    "        except Exception as e:\n",
    "            print(f\"Ocurrió un error inesperado: {e}\")\n",
    "            break\n",
    "\n",
    "questText() #Llamada a la funcion que inicia el proceso\n",
    "\n",
    "\n"
   ]
  },
  {
   "cell_type": "code",
   "execution_count": 8,
   "id": "2fd495d7",
   "metadata": {},
   "outputs": [
    {
     "name": "stdout",
     "output_type": "stream",
     "text": [
      "[9, 18, 27, 36, 45]\n"
     ]
    }
   ],
   "source": [
    "\"\"\"\n",
    "4.Genera una función que calcule la diferencia entre los valores de dos listas. Usa la función map(). \n",
    "\"\"\"\n",
    "\n",
    "listOne = [10,20,30,40,50]\n",
    "listTwo = [1,2,3,4,5]\n",
    "\n",
    "listResult = list(map(lambda diferent: diferent[0] - diferent[1], zip(listOne, listTwo)))\n",
    "print(listResult)\n"
   ]
  },
  {
   "cell_type": "code",
   "execution_count": null,
   "id": "ffe31603",
   "metadata": {},
   "outputs": [
    {
     "name": "stdout",
     "output_type": "stream",
     "text": [
      "(6.0, 'aprobado')\n"
     ]
    }
   ],
   "source": [
    "\"\"\"\n",
    "5.Escribe una función que tome una lista de números como parámetro y un valor opcional nota_aprobado (por defecto 5).\n",
    "La función debe calcular la media de los números en la lista y determinar si la media es mayor o igual que nota_aprobado.\n",
    "Si es así, el estado será \"aprobado\"; de lo contrario, \"suspenso\". \n",
    "La función debe devolver una tupla que contenga la media y el estado. \n",
    "\"\"\"\n",
    "\n",
    "numberList = [3,7,1,9,10]\n",
    "notaAprobado = 5\n",
    "def calculateAverage(numberList,notaAprobado):\n",
    "    resultCalculate = sum(numberList) / len(numberList)\n",
    "    if resultCalculate >= notaAprobado:\n",
    "        result = \"aprobado\"\n",
    "    else:\n",
    "        result = \"suspenso\"\n",
    "    return (resultCalculate,result)\n",
    "print(calculateAverage(numberList,notaAprobado))\n"
   ]
  },
  {
   "cell_type": "code",
   "execution_count": 88,
   "id": "96fb27ba",
   "metadata": {},
   "outputs": [
    {
     "name": "stdout",
     "output_type": "stream",
     "text": [
      "1405006117752879898543142606244511569936384000000000\n"
     ]
    }
   ],
   "source": [
    "\"\"\" \n",
    "6.Escribe una función que calcule el factorial de un número de manera recursiva.\n",
    "\"\"\"\n",
    "\n",
    "def callNumber():\n",
    "    while True:\n",
    "        try:\n",
    "            inputNumber = int(input(\"Ingrese un número para calcular su factorial: \"))\n",
    "            if inputNumber.numerator or not inputNumber.replace(' ', ''):\n",
    "                return inputNumber\n",
    "            else:\n",
    "                print(\"Error, el valor debe ser un número entero\")\n",
    "                clearWindow()\n",
    "                continue\n",
    "        except ValueError:\n",
    "            print(\"Error, el valor debe ser un número entero\")\n",
    "            clearWindow()\n",
    "            continue\n",
    "        except KeyboardInterrupt:\n",
    "            print(\"Programa interrumpido por el usuario. Cerrando...\")\n",
    "            break\n",
    "        except Exception as e:\n",
    "            print(f\"Ocurrió un error inesperado: {e}\")\n",
    "            break\n",
    "\n",
    "\n",
    "def factorialCalculate(number):\n",
    "    if number < 0:\n",
    "        return \"Error, el número no puede ser negativo\"\n",
    "    elif number == 0 or number == 1:\n",
    "        return 1\n",
    "    else:\n",
    "        return number * factorialCalculate(number - 1)\n",
    "\n",
    "print(factorialCalculate(callNumber()))"
   ]
  },
  {
   "cell_type": "code",
   "execution_count": 14,
   "id": "5bec6f97",
   "metadata": {},
   "outputs": [
    {
     "name": "stdout",
     "output_type": "stream",
     "text": [
      "<class 'str'>\n",
      "['como estas', 'hola mundo', 'buenos dias']\n"
     ]
    }
   ],
   "source": [
    "\"\"\"\" \n",
    "7.Genera una función que convierta una lista de tuplas a una lista de strings. Usa la función map().\n",
    "\"\"\"\n",
    "tupleList = [(\"como\",\"estas\"),(\"hola\",\"mundo\"),(\"buenos\",\"dias\")]\n",
    "def tupleconvert(tuples):\n",
    "    result = list(map(' '.join, tuples))\n",
    "    print(type(result[0]))\n",
    "    return result\n",
    "print(tupleconvert(tupleList))"
   ]
  },
  {
   "cell_type": "code",
   "execution_count": null,
   "id": "a4365240",
   "metadata": {},
   "outputs": [
    {
     "name": "stdout",
     "output_type": "stream",
     "text": [
      "El resultado de la división es: 100.0\n"
     ]
    }
   ],
   "source": [
    "\"\"\"\" \n",
    "8.Escribe un programa que pida al usuario dos números e intente dividirlos. Si el usuario ingresa un valor no numérico\n",
    " o intenta dividir por cero, maneja esas excepciones de manera adecuada y muestra un mensaje \n",
    " indicando si la división fue exitosa o no.\n",
    "\"\"\"\n",
    "\n",
    "\n",
    "def recibeNumber():\n",
    "    while True:\n",
    "        try:\n",
    "            num1 = int(input(\"Escribe el primer número: \"))\n",
    "            num2 = int(input(\"Escribe el segundo número: \"))\n",
    "            divideNumbers(num1, num2)\n",
    "            break\n",
    "        except ValueError:\n",
    "            print(\"Error, el valor debe ser un número.\")\n",
    "            clearWindow()\n",
    "            \n",
    "        except KeyboardInterrupt:\n",
    "            print(\"Programa interrumpido por el usuario. Cerrando...\")\n",
    "            clearWindow()\n",
    "\n",
    "def divideNumbers(num1, num2):\n",
    "    try:\n",
    "        resultado = num1 / num2\n",
    "        print(f\"El resultado de la división es: {resultado}\")\n",
    "    except ZeroDivisionError:\n",
    "        print(\"Error, no se puede dividir entre cero.\")\n",
    "        clearWindow()\n",
    "    \n",
    "        \n",
    "recibeNumber()"
   ]
  },
  {
   "cell_type": "code",
   "execution_count": 23,
   "id": "5bf0fe74",
   "metadata": {},
   "outputs": [
    {
     "name": "stdout",
     "output_type": "stream",
     "text": [
      "['Jamster', 'Gato', 'Perro', 'Pajaro']\n"
     ]
    }
   ],
   "source": [
    "\"\"\" \n",
    "9.Escribe una función que tome una lista de nombres de mascotas como parámetro y devuelva una nueva lista excluyendo \n",
    "ciertas mascotas prohibidas en España. \n",
    "La lista de mascotas a excluir es [\"Mapache\", \"Tigre\", \"Serpiente Pitón\", \"Cocodrilo\", \"Oso\"]. Usa la función filter().\n",
    "\"\"\"\n",
    "\n",
    "listNameAnimals = [\"Jamster\", \"Tigre\", \"Gato\", \"Perro\", \"Cocodrilo\", \"Pajaro\"]\n",
    "def excludeAnimals(animals):\n",
    "    excludes = [\"Mapache\", \"Tigre\", \"Serpiente Pitón\", \"Cocodrilo\", \"Oso\"]\n",
    "    result = list(filter(lambda names: names not in excludes,animals))\n",
    "    print(result)\n",
    "\n",
    "excludeAnimals(listNameAnimals)"
   ]
  },
  {
   "cell_type": "code",
   "execution_count": null,
   "id": "827036a7",
   "metadata": {},
   "outputs": [
    {
     "name": "stdout",
     "output_type": "stream",
     "text": [
      "Error Lista vacia\n"
     ]
    }
   ],
   "source": [
    "\"\"\" \n",
    "10.Escribe una función que reciba una lista de números y calcule su promedio. Si la lista está vacía, lanza una excepción personalizada y\n",
    " maneja el error adecuadamente.\n",
    "\"\"\"\n",
    "listNumbers = [10, 30, 50, 9]\n",
    "class NoInList(Exception):\n",
    "    pass\n",
    "def computeaverage(numbers):\n",
    "    try:\n",
    "        if not numbers:\n",
    "            raise NoInList(\"Lista vacia\")\n",
    "        calculate = sum(numbers) / len(numbers)\n",
    "        print(f\"El promedio es: {calculate}\")\n",
    "\n",
    "    except NoInList as e:\n",
    "        print(f\"Error {e}\")\n",
    "    except ZeroDivisionError:\n",
    "        print(\"La lista esta vacia\")\n",
    "    except TypeError:\n",
    "        print(\"algo a salido mal\")\n",
    "\n",
    "\n",
    "\n",
    "\n",
    "\n",
    "\n",
    "computeaverage(listNumbers)"
   ]
  },
  {
   "cell_type": "code",
   "execution_count": null,
   "id": "2bcbf0a7",
   "metadata": {},
   "outputs": [
    {
     "name": "stdout",
     "output_type": "stream",
     "text": [
      "Su edad es 3 años\n"
     ]
    }
   ],
   "source": [
    "\"\"\" \n",
    "11.Escribe un programa que pida al usuario que introduzca su edad. Si el usuario ingresa un valor no numérico o un valor fuera\n",
    " del rango esperado (por ejemplo, menor que 0 o mayor que 120), maneja las excepciones adecuadamente.\n",
    "\"\"\"\n",
    "\n",
    "def callAge():\n",
    "    inputNumber = int(input(\"Ingrese su edad: \"))\n",
    "    if  inputNumber <= 0 or inputNumber >= 120:\n",
    "        print(\"El valor no puede ser menor de 1 ni mayor de 119\")\n",
    "        clearWindow()\n",
    "        callAge()\n",
    "    elif inputNumber.numerator or not inputNumber.replace(' ', ''):\n",
    "        print(f\"Su edad es {inputNumber} años\")\n",
    "    else:\n",
    "        print(\"Error, el valor debe ser un número entero\")\n",
    "        clearWindow()\n",
    "        return\n",
    "def questNumberAge():\n",
    "    while True:\n",
    "        try:\n",
    "            if callAge():\n",
    "                continue\n",
    "            else:\n",
    "                break \n",
    "            \n",
    "        except ValueError:\n",
    "            print(\"Error, el valor debe ser un número entero\")\n",
    "            clearWindow()\n",
    "            continue\n",
    "        except KeyboardInterrupt:\n",
    "            print(\"Programa interrumpido por el usuario. Cerrando...\")\n",
    "            break\n",
    "        except Exception as e:\n",
    "            print(f\"Ocurrió un error inesperado: {e}\")\n",
    "            break\n",
    "\n",
    "\n",
    "questNumberAge()"
   ]
  },
  {
   "cell_type": "code",
   "execution_count": null,
   "id": "e49ed376",
   "metadata": {},
   "outputs": [
    {
     "name": "stdout",
     "output_type": "stream",
     "text": [
      "[4, 2, 3, 5, 2, 6]\n"
     ]
    }
   ],
   "source": [
    "\"\"\" \n",
    "12.Genera una función que, al recibir una frase, devuelva una lista con la longitud de cada palabra. Usa la función map().\n",
    "\"\"\"\n",
    "text = \"Esta es una frase de prueba\"\n",
    "def lengthText(listText):\n",
    "    result = listText.split()\n",
    "\n",
    "    print(list(map(len,result)))\n",
    "\n",
    "lengthText(text)"
   ]
  },
  {
   "cell_type": "code",
   "execution_count": null,
   "id": "44670df6",
   "metadata": {},
   "outputs": [
    {
     "name": "stdout",
     "output_type": "stream",
     "text": [
      "[('d', 'D'), ('u', 'U'), ('e', 'E'), ('r', 'R'), ('o', 'O'), ('b', 'B'), ('n', 'N'), ('t', 'T'), ('a', 'A'), ('p', 'P'), ('x', 'X'), ('s', 'S')]\n"
     ]
    }
   ],
   "source": [
    "\"\"\" \n",
    "13.Genera una función que, para un conjunto de caracteres,\n",
    " devuelva una lista de tuplas con cada letra en mayúsculas y minúsculas. Las letras no pueden estar repetidas.\n",
    " Usa la función map().\n",
    "\"\"\"\n",
    "\n",
    "\n",
    "\n",
    "def breakdownText():\n",
    "    text = (\"Este es un Texto de Prueba\")\n",
    "    filterList = filter(lambda rest: rest != \" \" , text)\n",
    "    breakdown = list(set(map(lambda rest: ( rest.lower(), rest.upper()), filterList)))\n",
    "   \n",
    "        \n",
    "        \n",
    "    print(breakdown)\n",
    "\n",
    "breakdownText()\n",
    "\n"
   ]
  },
  {
   "cell_type": "code",
   "execution_count": null,
   "id": "51d56996",
   "metadata": {},
   "outputs": [
    {
     "name": "stdout",
     "output_type": "stream",
     "text": [
      "Solo se permite una letra\n"
     ]
    }
   ],
   "source": [
    "\"\"\" \n",
    "14.Crea una función que retorne las palabras de una lista que comiencen con una letra en específico. Usa la función filter().\n",
    "\"\"\"\n",
    "\n",
    "text = [\"Este\", \"lago\", \"Es\", \"muy\", \"largo\"]\n",
    "excludes = \"e\"\n",
    "def returnList(listText, excludesText):\n",
    "    try:\n",
    "        result = list(filter(lambda words: words.lower()[0] == excludesText.lower(), listText))    \n",
    "        if excludesText == \" \" or excludesText == \"\" or len(excludesText) > 1 or len(excludesText) < 1:\n",
    "            print(\"Solo se permite una letra\")\n",
    "            clearWindow()\n",
    "        elif len(result) == 0:\n",
    "            print(\"No se encontraron palabras que comienzan con la letra\", excludesText)\n",
    "            clearWindow()\n",
    "        else:\n",
    "            print(result)\n",
    "    except Exception:\n",
    "        print(f\"No se encontraron palabras que comienzan con la letra\", excludesText)\n",
    "        clearWindow()        \n",
    "    except KeyboardInterrupt:\n",
    "        print(\"Programa interrumpido por el usuario. Cerrando...\")\n",
    "        clearWindow()\n",
    "    except TypeError:\n",
    "        print(\"Ha introducido un valor no válido\")\n",
    "        clearWindow()\n",
    "    except ValueError:\n",
    "        print(\"Ha introducido un valor no válido\")\n",
    "        clearWindow()\n",
    "    except AttributeError:\n",
    "        print(\"Ha introducido un valor no válido\")\n",
    "        clearWindow()\n",
    "\n",
    "\n",
    "returnList(text, excludes)"
   ]
  },
  {
   "cell_type": "code",
   "execution_count": 93,
   "id": "0fc7f988",
   "metadata": {},
   "outputs": [
    {
     "name": "stdout",
     "output_type": "stream",
     "text": [
      "[4, 5, 6, 7, 8]\n"
     ]
    }
   ],
   "source": [
    "\"\"\"     \n",
    "15.Crea una función lambda que sume 3 a cada número de una lista dada.\n",
    "\"\"\"\n",
    "listNum = [1, 2, 3, 4, 5]\n",
    "result = list(map(lambda num: num + 3, listNum))\n",
    "\n",
    "print(result)\n"
   ]
  },
  {
   "cell_type": "code",
   "execution_count": null,
   "id": "fd6cff6a",
   "metadata": {},
   "outputs": [
    {
     "name": "stdout",
     "output_type": "stream",
     "text": [
      "['frase', 'ejemplo']\n"
     ]
    }
   ],
   "source": [
    "\"\"\" \n",
    "16.Escribe una función que tome una cadena de texto y un número entero n como parámetros y devuelva una lista de todas las \n",
    "palabras que sean más largas que n. Usa la función filter().\n",
    "\"\"\"\n",
    "text = \"Esta es una frase de ejemplo\"\n",
    "n = 4\n",
    "def calculateText(text, n):\n",
    "    try:\n",
    "        result = list(filter(lambda word : len(word) > n, text.split()))\n",
    "        print(result)\n",
    "    except Exception:\n",
    "        print(\"Ha introducido un valor no válido\")\n",
    "        clearWindow()\n",
    "    except KeyboardInterrupt:\n",
    "        print(\"Programa interrumpido por el usuario. Cerrando...\")\n",
    "        clearWindow()\n",
    "    except TypeError:\n",
    "        print(\"Ha introducido un valor no válido\")\n",
    "        clearWindow()\n",
    "\n",
    "\n",
    "calculateText(text, n)"
   ]
  },
  {
   "cell_type": "code",
   "execution_count": null,
   "id": "84234e7d",
   "metadata": {},
   "outputs": [
    {
     "name": "stdout",
     "output_type": "stream",
     "text": [
      "5327\n"
     ]
    }
   ],
   "source": [
    "\"\"\" \n",
    "17.Crea una función que tome una lista de dígitos y devuelva el número correspondiente. Por ejemplo, [5,7,2] corresponde\n",
    "al número 572. Usa la función reduce().\n",
    "\"\"\"\n",
    "from functools import reduce\n",
    "\n",
    "ListNum = [5,3,2,7]\n",
    "def calculateNumber(listNum):\n",
    "    try:\n",
    "        result = reduce(lambda num1, num2 : num1* 10 + num2, listNum)\n",
    "        print(result)\n",
    "\n",
    "    except KeyboardInterrupt:\n",
    "        print(\"Programa interrumpido por el usuario. Cerrando...\")\n",
    "        clearWindow()\n",
    "    except TypeError:\n",
    "        print(\"Ha introducido un valor no válido\")\n",
    "        clearWindow()\n",
    "    except Exception:\n",
    "        print(\"Ha introducido un valor no válido\")\n",
    "        clearWindow()\n",
    "\n",
    "calculateNumber(ListNum)"
   ]
  }
 ],
 "metadata": {
  "kernelspec": {
   "display_name": "base",
   "language": "python",
   "name": "python3"
  },
  "language_info": {
   "codemirror_mode": {
    "name": "ipython",
    "version": 3
   },
   "file_extension": ".py",
   "mimetype": "text/x-python",
   "name": "python",
   "nbconvert_exporter": "python",
   "pygments_lexer": "ipython3",
   "version": "3.13.2"
  }
 },
 "nbformat": 4,
 "nbformat_minor": 5
}

{
 "cells": [
  {
   "cell_type": "code",
   "execution_count": null,
   "id": "328ea5d8",
   "metadata": {},
   "outputs": [
    {
     "name": "stdout",
     "output_type": "stream",
     "text": [
      "Error,el valor debe ser una cadena de texto\n"
     ]
    }
   ],
   "source": [
    "\"\"\"\n",
    "1.\n",
    "Escribe una función que reciba una cadena de texto como parámetro y devuelva un diccionario con las \n",
    "frecuencias de cada letra en la cadena. Los espacios no deben ser considerados.\n",
    "\"\"\"\n",
    "def letterFrequency(text = \"Esta es una cadena de texto de ejemplo\"):\n",
    "    listText = {}\n",
    "    for char in text.lower():\n",
    "        if char == \" \":\n",
    "            continue\n",
    "        if char.isdigit():\n",
    "            return \"Error,el valor debe ser una cadena de texto\"\n",
    "        if char in listText:\n",
    "            listText[char] += 1   \n",
    "        else:\n",
    "            listText[char] = 1\n",
    "    return listText\n",
    "inputText = input(\"Ingrese un texto: \")\n",
    "print(letterFrequency(inputText))"
   ]
  },
  {
   "cell_type": "code",
   "execution_count": 10,
   "id": "6f0d8bd4",
   "metadata": {},
   "outputs": [
    {
     "name": "stdout",
     "output_type": "stream",
     "text": [
      "[2, 4, 6, 8, 10, 12, 14, 16, 18, 20]\n",
      "[2, 4, 6, 8, 10, 12, 14, 16, 18, 20]\n"
     ]
    }
   ],
   "source": [
    "\"\"\"\n",
    "2.Dada una lista de números, obtén una nueva lista con el doble de cada valor. Usa la función map().\n",
    "\"\"\"\n",
    "numberList = [1,2,3,4,5,6,7,8,9,10]\n",
    "def numberDoble(number):\n",
    "    return number * 2\n",
    "listValues = list(map(numberDoble, numberList))\n",
    "print(listValues)\n",
    "\n",
    "\n",
    "\"Otra manera mas corta para hacerlo es usando una función lambda que es una funcion anónima.\"\n",
    "doubleNumber = list(map(lambda x: x * 2, numberList))\n",
    "print(doubleNumber)"
   ]
  },
  {
   "cell_type": "code",
   "execution_count": null,
   "id": "7ea1f9c1",
   "metadata": {},
   "outputs": [
    {
     "name": "stdout",
     "output_type": "stream",
     "text": [
      "Palabras que comienzan con 'la':\n",
      "- hola\n",
      "- holanda\n"
     ]
    }
   ],
   "source": [
    "\"\"\" \n",
    "3.Escribe una función que tome una lista de palabras y una palabra objetivo como parámetros. \n",
    "La función debe devolver una lista con todas las palabras de la lista original que contengan la palabra objetivo.\n",
    "\"\"\"\n",
    "from IPython.display import clear_output\n",
    "import os\n",
    "wordsList = [\"hola\", \"adios\", \"dios\", \"estas\", \"arranca\", \"holanda\", \"estanteria\"] #Lista de palabras\n",
    "\n",
    "\n",
    "def clearWindow(): #Funcion para limpiar la consola\n",
    "    clear_output(wait=True)\n",
    "    if os.name == 'nt' or os.name == 'dos':\n",
    "        os.system('cls')\n",
    "        os.system('clear')\n",
    "\n",
    "        \n",
    "def search_and_print(word_list, target_word): #Funcion que busca y muestra las palabras que comienzan con la palabra objetivo\n",
    "    results = [word for word in word_list if target_word.lower() in word.lower()]\n",
    "    while True:\n",
    "        if results:\n",
    "            print(f\"Palabras que comienzan con '{target_word}':\")\n",
    "            for word in results:\n",
    "                print(f\"- {word}\")\n",
    "        else: \n",
    "            print(f\"No se encontraron palabras que comiencen con '{target_word}'.Vuelva a intentarlo.\")\n",
    "            return False \n",
    "        return True\n",
    "\n",
    "def questText(): #Funcion que pregunta por la palabra objetivo y maneja los posibles errores\n",
    "    while True:\n",
    "        try:\n",
    "            targetWord = input(\"Ingrese la palabra que desea buscar: \")\n",
    "\n",
    "            if targetWord.isdigit() or not targetWord.replace(' ', '').isalpha():\n",
    "                print(\"Error, el valor debe ser una cadena de texto\")\n",
    "                clearWindow()\n",
    "                continue \n",
    "            else:\n",
    "                result = search_and_print(wordsList, targetWord)\n",
    "                if result:\n",
    "                    break\n",
    "                else:\n",
    "                    clearWindow()\n",
    "                    continue\n",
    "        except KeyboardInterrupt:\n",
    "            print(\"Programa interrumpido por el usuario. Cerrando...\")\n",
    "            break\n",
    "        except Exception as e:\n",
    "            print(f\"Ocurrió un error inesperado: {e}\")\n",
    "            break\n",
    "\n",
    "questText() #Llamada a la funcion que inicia el proceso\n",
    "\n",
    "\n"
   ]
  },
  {
   "cell_type": "code",
   "execution_count": null,
   "id": "2fd495d7",
   "metadata": {},
   "outputs": [
    {
     "ename": "AttributeError",
     "evalue": "'list' object has no attribute 'print'",
     "output_type": "error",
     "traceback": [
      "\u001b[31m---------------------------------------------------------------------------\u001b[39m",
      "\u001b[31mAttributeError\u001b[39m                            Traceback (most recent call last)",
      "\u001b[36mCell\u001b[39m\u001b[36m \u001b[39m\u001b[32mIn[7]\u001b[39m\u001b[32m, line 8\u001b[39m\n\u001b[32m      5\u001b[39m listOne = [\u001b[32m10\u001b[39m,\u001b[32m20\u001b[39m,\u001b[32m30\u001b[39m,\u001b[32m40\u001b[39m,\u001b[32m50\u001b[39m]\n\u001b[32m      6\u001b[39m listTwo = [\u001b[32m1\u001b[39m,\u001b[32m2\u001b[39m,\u001b[32m3\u001b[39m,\u001b[32m4\u001b[39m,\u001b[32m5\u001b[39m]\n\u001b[32m----> \u001b[39m\u001b[32m8\u001b[39m listResult = \u001b[38;5;28;43mlist\u001b[39;49m\u001b[43m(\u001b[49m\u001b[38;5;28;43mmap\u001b[39;49m\u001b[43m(\u001b[49m\u001b[38;5;28;43;01mlambda\u001b[39;49;00m\u001b[43m \u001b[49m\u001b[43mdiferent\u001b[49m\u001b[43m:\u001b[49m\u001b[43m \u001b[49m\u001b[43mdiferent\u001b[49m\u001b[43m[\u001b[49m\u001b[32;43m0\u001b[39;49m\u001b[43m]\u001b[49m\u001b[43m \u001b[49m\u001b[43m-\u001b[49m\u001b[43m \u001b[49m\u001b[43mdiferent\u001b[49m\u001b[43m[\u001b[49m\u001b[32;43m1\u001b[39;49m\u001b[43m]\u001b[49m\u001b[43m,\u001b[49m\u001b[43m \u001b[49m\u001b[38;5;28;43mzip\u001b[39;49m\u001b[43m(\u001b[49m\u001b[43mlistOne\u001b[49m\u001b[43m,\u001b[49m\u001b[43m \u001b[49m\u001b[43mlistTwo\u001b[49m\u001b[43m)\u001b[49m\u001b[43m)\u001b[49m\u001b[43m)\u001b[49m\u001b[43m.\u001b[49m\u001b[43mprint\u001b[49m()\n",
      "\u001b[31mAttributeError\u001b[39m: 'list' object has no attribute 'print'"
     ]
    }
   ],
   "source": [
    "\"\"\"\n",
    "4.Genera una función que calcule la diferencia entre los valores de dos listas. Usa la función map(). \n",
    "\"\"\"\n",
    "\n",
    "listOne = [10,20,30,40,50]\n",
    "listTwo = [1,2,3,4,5]\n",
    "\n",
    "listResult = list(map(lambda diferent: diferent[0] - diferent[1], zip(listOne, listTwo)))\n",
    "print(listResult)\n"
   ]
  }
 ],
 "metadata": {
  "kernelspec": {
   "display_name": "base",
   "language": "python",
   "name": "python3"
  },
  "language_info": {
   "codemirror_mode": {
    "name": "ipython",
    "version": 3
   },
   "file_extension": ".py",
   "mimetype": "text/x-python",
   "name": "python",
   "nbconvert_exporter": "python",
   "pygments_lexer": "ipython3",
   "version": "3.13.2"
  }
 },
 "nbformat": 4,
 "nbformat_minor": 5
}

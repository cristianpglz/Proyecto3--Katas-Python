{
 "cells": [
  {
   "cell_type": "code",
   "execution_count": 1,
   "id": "328ea5d8",
   "metadata": {},
   "outputs": [
    {
     "name": "stdout",
     "output_type": "stream",
     "text": [
      "{'l': 2, 'o': 1, 'a': 1}\n"
     ]
    }
   ],
   "source": [
    "\"\"\"\n",
    "1.\n",
    "Escribe una función que reciba una cadena de texto como parámetro y devuelva un diccionario con las \n",
    "frecuencias de cada letra en la cadena. Los espacios no deben ser considerados.\n",
    "\"\"\"\n",
    "def letterFrequency(text = \"Esta es una cadena de texto de ejemplo\"):\n",
    "    listText = {}\n",
    "    for char in text.lower():\n",
    "        if char == \" \":\n",
    "            continue\n",
    "        if char in listText:\n",
    "            listText[char] += 1\n",
    "        else:\n",
    "            listText[char] = 1\n",
    "       \n",
    "    return listText\n",
    "inputText = input(\"Ingrese un texto: \")\n",
    "print(letterFrequency(inputText))"
   ]
  },
  {
   "cell_type": "code",
   "execution_count": 10,
   "id": "6f0d8bd4",
   "metadata": {},
   "outputs": [
    {
     "name": "stdout",
     "output_type": "stream",
     "text": [
      "[2, 4, 6, 8, 10, 12, 14, 16, 18, 20]\n",
      "[2, 4, 6, 8, 10, 12, 14, 16, 18, 20]\n"
     ]
    }
   ],
   "source": [
    "\"\"\"\n",
    "2.Dada una lista de números, obtén una nueva lista con el doble de cada valor. Usa la función map().\n",
    "\"\"\"\n",
    "numberList = [1,2,3,4,5,6,7,8,9,10]\n",
    "def numberDoble(number):\n",
    "    return number * 2\n",
    "listValues = list(map(numberDoble, numberList))\n",
    "print(listValues)\n",
    "\n",
    "\n",
    "\"Otra manera mas corta para hacerlo es usando una función lambda que es una funcion anónima.\"\n",
    "doubleNumber = list(map(lambda x: x * 2, numberList))\n",
    "print(doubleNumber)"
   ]
  }
 ],
 "metadata": {
  "kernelspec": {
   "display_name": "base",
   "language": "python",
   "name": "python3"
  },
  "language_info": {
   "codemirror_mode": {
    "name": "ipython",
    "version": 3
   },
   "file_extension": ".py",
   "mimetype": "text/x-python",
   "name": "python",
   "nbconvert_exporter": "python",
   "pygments_lexer": "ipython3",
   "version": "3.13.2"
  }
 },
 "nbformat": 4,
 "nbformat_minor": 5
}

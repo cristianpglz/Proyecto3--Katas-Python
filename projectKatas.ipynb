{
 "cells": [
  {
   "cell_type": "code",
   "execution_count": null,
   "id": "328ea5d8",
   "metadata": {},
   "outputs": [
    {
     "name": "stdout",
     "output_type": "stream",
     "text": [
      "Error,el valor debe ser una cadena de texto\n"
     ]
    }
   ],
   "source": [
    "\"\"\"\n",
    "1.\n",
    "Escribe una función que reciba una cadena de texto como parámetro y devuelva un diccionario con las \n",
    "frecuencias de cada letra en la cadena. Los espacios no deben ser considerados.\n",
    "\"\"\"\n",
    "def letterFrequency(text = \"Esta es una cadena de texto de ejemplo\"):\n",
    "    listText = {}\n",
    "    for char in text.lower():\n",
    "        if char == \" \":\n",
    "            continue\n",
    "        if char.isdigit():\n",
    "            return \"Error,el valor debe ser una cadena de texto\"\n",
    "        if char in listText:\n",
    "            listText[char] += 1   \n",
    "        else:\n",
    "            listText[char] = 1\n",
    "    return listText\n",
    "inputText = input(\"Ingrese un texto: \")\n",
    "print(letterFrequency(inputText))"
   ]
  },
  {
   "cell_type": "code",
   "execution_count": 10,
   "id": "6f0d8bd4",
   "metadata": {},
   "outputs": [
    {
     "name": "stdout",
     "output_type": "stream",
     "text": [
      "[2, 4, 6, 8, 10, 12, 14, 16, 18, 20]\n",
      "[2, 4, 6, 8, 10, 12, 14, 16, 18, 20]\n"
     ]
    }
   ],
   "source": [
    "\"\"\"\n",
    "2.Dada una lista de números, obtén una nueva lista con el doble de cada valor. Usa la función map().\n",
    "\"\"\"\n",
    "numberList = [1,2,3,4,5,6,7,8,9,10]\n",
    "def numberDoble(number):\n",
    "    return number * 2\n",
    "listValues = list(map(numberDoble, numberList))\n",
    "print(listValues)\n",
    "\n",
    "\n",
    "\"Otra manera mas corta para hacerlo es usando una función lambda que es una funcion anónima.\"\n",
    "doubleNumber = list(map(lambda x: x * 2, numberList))\n",
    "print(doubleNumber)"
   ]
  },
  {
   "cell_type": "code",
   "execution_count": null,
   "id": "7ea1f9c1",
   "metadata": {},
   "outputs": [
    {
     "name": "stdout",
     "output_type": "stream",
     "text": [
      "Palabras que comienzan con 'la':\n",
      "- hola\n",
      "- holanda\n"
     ]
    }
   ],
   "source": [
    "\"\"\" \n",
    "3.Escribe una función que tome una lista de palabras y una palabra objetivo como parámetros. \n",
    "La función debe devolver una lista con todas las palabras de la lista original que contengan la palabra objetivo.\n",
    "\"\"\"\n",
    "from IPython.display import clear_output\n",
    "import os\n",
    "wordsList = [\"hola\", \"adios\", \"dios\", \"estas\", \"arranca\", \"holanda\", \"estanteria\"] #Lista de palabras\n",
    "\n",
    "\n",
    "def clearWindow(): #Funcion para limpiar la consola\n",
    "    clear_output(wait=True)\n",
    "    if os.name == 'nt' or os.name == 'dos':\n",
    "        os.system('cls')\n",
    "        os.system('clear')\n",
    "\n",
    "        \n",
    "def search_and_print(word_list, target_word): #Funcion que busca y muestra las palabras que comienzan con la palabra objetivo\n",
    "    results = [word for word in word_list if target_word.lower() in word.lower()]\n",
    "    while True:\n",
    "        if results:\n",
    "            print(f\"Palabras que comienzan con '{target_word}':\")\n",
    "            for word in results:\n",
    "                print(f\"- {word}\")\n",
    "        else: \n",
    "            print(f\"No se encontraron palabras que comiencen con '{target_word}'.Vuelva a intentarlo.\")\n",
    "            return False \n",
    "        return True\n",
    "\n",
    "def questText(): #Funcion que pregunta por la palabra objetivo y maneja los posibles errores\n",
    "    while True:\n",
    "        try:\n",
    "            targetWord = input(\"Ingrese la palabra que desea buscar: \")\n",
    "\n",
    "            if targetWord.isdigit() or not targetWord.replace(' ', '').isalpha():\n",
    "                print(\"Error, el valor debe ser una cadena de texto\")\n",
    "                clearWindow()\n",
    "                continue \n",
    "            else:\n",
    "                result = search_and_print(wordsList, targetWord)\n",
    "                if result:\n",
    "                    break\n",
    "                else:\n",
    "                    clearWindow()\n",
    "                    continue\n",
    "        except KeyboardInterrupt:\n",
    "            print(\"Programa interrumpido por el usuario. Cerrando...\")\n",
    "            break\n",
    "        except Exception as e:\n",
    "            print(f\"Ocurrió un error inesperado: {e}\")\n",
    "            break\n",
    "\n",
    "questText() #Llamada a la funcion que inicia el proceso\n",
    "\n",
    "\n"
   ]
  },
  {
   "cell_type": "code",
   "execution_count": 8,
   "id": "2fd495d7",
   "metadata": {},
   "outputs": [
    {
     "name": "stdout",
     "output_type": "stream",
     "text": [
      "[9, 18, 27, 36, 45]\n"
     ]
    }
   ],
   "source": [
    "\"\"\"\n",
    "4.Genera una función que calcule la diferencia entre los valores de dos listas. Usa la función map(). \n",
    "\"\"\"\n",
    "\n",
    "listOne = [10,20,30,40,50]\n",
    "listTwo = [1,2,3,4,5]\n",
    "\n",
    "listResult = list(map(lambda diferent: diferent[0] - diferent[1], zip(listOne, listTwo)))\n",
    "print(listResult)\n"
   ]
  },
  {
   "cell_type": "code",
   "execution_count": null,
   "id": "ffe31603",
   "metadata": {},
   "outputs": [
    {
     "name": "stdout",
     "output_type": "stream",
     "text": [
      "(6.0, 'aprobado')\n"
     ]
    }
   ],
   "source": [
    "\"\"\"\n",
    "5.Escribe una función que tome una lista de números como parámetro y un valor opcional nota_aprobado (por defecto 5).\n",
    "La función debe calcular la media de los números en la lista y determinar si la media es mayor o igual que nota_aprobado.\n",
    "Si es así, el estado será \"aprobado\"; de lo contrario, \"suspenso\". \n",
    "La función debe devolver una tupla que contenga la media y el estado. \n",
    "\"\"\"\n",
    "\n",
    "numberList = [3,7,1,9,10]\n",
    "notaAprobado = 5\n",
    "def calculateAverage(numberList,notaAprobado):\n",
    "    resultCalculate = sum(numberList) / len(numberList)\n",
    "    if resultCalculate >= notaAprobado:\n",
    "        result = \"aprobado\"\n",
    "    else:\n",
    "        result = \"suspenso\"\n",
    "    return (resultCalculate,result)\n",
    "print(calculateAverage(numberList,notaAprobado))\n"
   ]
  },
  {
   "cell_type": "code",
   "execution_count": null,
   "id": "96fb27ba",
   "metadata": {},
   "outputs": [
    {
     "name": "stdout",
     "output_type": "stream",
     "text": [
      "Error, el valor debe ser un número entero\n"
     ]
    },
    {
     "ename": "NameError",
     "evalue": "name 'clearWindow' is not defined",
     "output_type": "error",
     "traceback": [
      "\u001b[31m---------------------------------------------------------------------------\u001b[39m",
      "\u001b[31mValueError\u001b[39m                                Traceback (most recent call last)",
      "\u001b[36mCell\u001b[39m\u001b[36m \u001b[39m\u001b[32mIn[8]\u001b[39m\u001b[32m, line 10\u001b[39m, in \u001b[36mcallNumber\u001b[39m\u001b[34m()\u001b[39m\n\u001b[32m      9\u001b[39m \u001b[38;5;28;01mtry\u001b[39;00m:\n\u001b[32m---> \u001b[39m\u001b[32m10\u001b[39m     inputNumber = \u001b[38;5;28;43mint\u001b[39;49m\u001b[43m(\u001b[49m\u001b[38;5;28;43minput\u001b[39;49m\u001b[43m(\u001b[49m\u001b[33;43m\"\u001b[39;49m\u001b[33;43mIngrese un número para calcular su factorial: \u001b[39;49m\u001b[33;43m\"\u001b[39;49m\u001b[43m)\u001b[49m\u001b[43m)\u001b[49m\n\u001b[32m     11\u001b[39m     \u001b[38;5;28;01mif\u001b[39;00m inputNumber.numerator \u001b[38;5;129;01mor\u001b[39;00m \u001b[38;5;129;01mnot\u001b[39;00m inputNumber.replace(\u001b[33m'\u001b[39m\u001b[33m \u001b[39m\u001b[33m'\u001b[39m, \u001b[33m'\u001b[39m\u001b[33m'\u001b[39m):\n",
      "\u001b[31mValueError\u001b[39m: invalid literal for int() with base 10: 'a'",
      "\nDuring handling of the above exception, another exception occurred:\n",
      "\u001b[31mNameError\u001b[39m                                 Traceback (most recent call last)",
      "\u001b[36mCell\u001b[39m\u001b[36m \u001b[39m\u001b[32mIn[8]\u001b[39m\u001b[32m, line 37\u001b[39m\n\u001b[32m     34\u001b[39m     \u001b[38;5;28;01melse\u001b[39;00m:\n\u001b[32m     35\u001b[39m         \u001b[38;5;28;01mreturn\u001b[39;00m number * factorialCalculate(number - \u001b[32m1\u001b[39m)\n\u001b[32m---> \u001b[39m\u001b[32m37\u001b[39m \u001b[38;5;28mprint\u001b[39m(factorialCalculate(\u001b[43mcallNumber\u001b[49m\u001b[43m(\u001b[49m\u001b[43m)\u001b[49m))\n",
      "\u001b[36mCell\u001b[39m\u001b[36m \u001b[39m\u001b[32mIn[8]\u001b[39m\u001b[32m, line 19\u001b[39m, in \u001b[36mcallNumber\u001b[39m\u001b[34m()\u001b[39m\n\u001b[32m     17\u001b[39m \u001b[38;5;28;01mexcept\u001b[39;00m \u001b[38;5;167;01mValueError\u001b[39;00m:\n\u001b[32m     18\u001b[39m     \u001b[38;5;28mprint\u001b[39m(\u001b[33m\"\u001b[39m\u001b[33mError, el valor debe ser un número entero\u001b[39m\u001b[33m\"\u001b[39m)\n\u001b[32m---> \u001b[39m\u001b[32m19\u001b[39m     \u001b[43mclearWindow\u001b[49m()\n\u001b[32m     20\u001b[39m     \u001b[38;5;28;01mcontinue\u001b[39;00m\n\u001b[32m     21\u001b[39m \u001b[38;5;28;01mexcept\u001b[39;00m \u001b[38;5;167;01mKeyboardInterrupt\u001b[39;00m:\n",
      "\u001b[31mNameError\u001b[39m: name 'clearWindow' is not defined"
     ]
    }
   ],
   "source": [
    "\"\"\" \n",
    "6.Escribe una función que calcule el factorial de un número de manera recursiva.\n",
    "\"\"\"\n",
    "from IPython.display import clear_output\n",
    "import os\n",
    "def clearWindow():\n",
    "    clear_output(wait=True)\n",
    "    if os.name == 'nt' or os.name == 'dos':\n",
    "        os.system('cls')\n",
    "        os.system('clear')\n",
    "        \n",
    "def callNumber():\n",
    "    while True:\n",
    "        try:\n",
    "            inputNumber = int(input(\"Ingrese un número para calcular su factorial: \"))\n",
    "            if inputNumber.numerator or not inputNumber.replace(' ', ''):\n",
    "                return inputNumber\n",
    "            else:\n",
    "                print(\"Error, el valor debe ser un número entero\")\n",
    "                clearWindow()\n",
    "                continue\n",
    "        except ValueError:\n",
    "            print(\"Error, el valor debe ser un número entero\")\n",
    "            clearWindow()\n",
    "            continue\n",
    "        except KeyboardInterrupt:\n",
    "            print(\"Programa interrumpido por el usuario. Cerrando...\")\n",
    "            break\n",
    "        except Exception as e:\n",
    "            print(f\"Ocurrió un error inesperado: {e}\")\n",
    "            break\n",
    "\n",
    "\n",
    "def factorialCalculate(number):\n",
    "    if number < 0:\n",
    "        return \"Error, el número no puede ser negativo\"\n",
    "    elif number == 0 or number == 1:\n",
    "        return 1\n",
    "    else:\n",
    "        return number * factorialCalculate(number - 1)\n",
    "\n",
    "print(factorialCalculate(callNumber()))"
   ]
  }
 ],
 "metadata": {
  "kernelspec": {
   "display_name": "base",
   "language": "python",
   "name": "python3"
  },
  "language_info": {
   "codemirror_mode": {
    "name": "ipython",
    "version": 3
   },
   "file_extension": ".py",
   "mimetype": "text/x-python",
   "name": "python",
   "nbconvert_exporter": "python",
   "pygments_lexer": "ipython3",
   "version": "3.13.2"
  }
 },
 "nbformat": 4,
 "nbformat_minor": 5
}

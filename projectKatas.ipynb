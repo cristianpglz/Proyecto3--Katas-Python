{
 "cells": [
  {
   "cell_type": "code",
   "execution_count": null,
   "id": "328ea5d8",
   "metadata": {},
   "outputs": [
    {
     "name": "stdout",
     "output_type": "stream",
     "text": [
      "Error,el valor debe ser una cadena de texto\n"
     ]
    }
   ],
   "source": [
    "\"\"\"\n",
    "1.\n",
    "Escribe una función que reciba una cadena de texto como parámetro y devuelva un diccionario con las \n",
    "frecuencias de cada letra en la cadena. Los espacios no deben ser considerados.\n",
    "\"\"\"\n",
    "def letterFrequency(text = \"Esta es una cadena de texto de ejemplo\"):\n",
    "    listText = {}\n",
    "    for char in text.lower():\n",
    "        if char == \" \":\n",
    "            continue\n",
    "        if char.isdigit():\n",
    "            return \"Error,el valor debe ser una cadena de texto\"\n",
    "        if char in listText:\n",
    "            listText[char] += 1   \n",
    "        else:\n",
    "            listText[char] = 1\n",
    "    return listText\n",
    "inputText = input(\"Ingrese un texto: \")\n",
    "print(letterFrequency(inputText))"
   ]
  },
  {
   "cell_type": "code",
   "execution_count": 10,
   "id": "6f0d8bd4",
   "metadata": {},
   "outputs": [
    {
     "name": "stdout",
     "output_type": "stream",
     "text": [
      "[2, 4, 6, 8, 10, 12, 14, 16, 18, 20]\n",
      "[2, 4, 6, 8, 10, 12, 14, 16, 18, 20]\n"
     ]
    }
   ],
   "source": [
    "\"\"\"\n",
    "2.Dada una lista de números, obtén una nueva lista con el doble de cada valor. Usa la función map().\n",
    "\"\"\"\n",
    "numberList = [1,2,3,4,5,6,7,8,9,10]\n",
    "def numberDoble(number):\n",
    "    return number * 2\n",
    "listValues = list(map(numberDoble, numberList))\n",
    "print(listValues)\n",
    "\n",
    "\n",
    "\"Otra manera mas corta para hacerlo es usando una función lambda que es una funcion anónima.\"\n",
    "doubleNumber = list(map(lambda x: x * 2, numberList))\n",
    "print(doubleNumber)"
   ]
  },
  {
   "cell_type": "code",
   "execution_count": null,
   "id": "7ea1f9c1",
   "metadata": {},
   "outputs": [
    {
     "name": "stdout",
     "output_type": "stream",
     "text": [
      "Palabras que comienzan con 'la':\n",
      "- hola\n",
      "- holanda\n"
     ]
    }
   ],
   "source": [
    "\"\"\" \n",
    "3.Escribe una función que tome una lista de palabras y una palabra objetivo como parámetros. \n",
    "La función debe devolver una lista con todas las palabras de la lista original que contengan la palabra objetivo.\n",
    "\"\"\"\n",
    "from IPython.display import clear_output\n",
    "import os\n",
    "wordsList = [\"hola\", \"adios\", \"dios\", \"estas\", \"arranca\", \"holanda\", \"estanteria\"] #Lista de palabras\n",
    "\n",
    "\n",
    "def clearWindow(): #Funcion para limpiar la consola\n",
    "    clear_output(wait=True)\n",
    "    if os.name == 'nt' or os.name == 'dos':\n",
    "        os.system('cls')\n",
    "        os.system('clear')\n",
    "\n",
    "        \n",
    "def search_and_print(word_list, target_word): #Funcion que busca y muestra las palabras que comienzan con la palabra objetivo\n",
    "    results = [word for word in word_list if target_word.lower() in word.lower()]\n",
    "    while True:\n",
    "        if results:\n",
    "            print(f\"Palabras que comienzan con '{target_word}':\")\n",
    "            for word in results:\n",
    "                print(f\"- {word}\")\n",
    "        else: \n",
    "            print(f\"No se encontraron palabras que comiencen con '{target_word}'.Vuelva a intentarlo.\")\n",
    "            return False \n",
    "        return True\n",
    "\n",
    "def questText(): #Funcion que pregunta por la palabra objetivo y maneja los posibles errores\n",
    "    while True:\n",
    "        try:\n",
    "            targetWord = input(\"Ingrese la palabra que desea buscar: \")\n",
    "\n",
    "            if targetWord.isdigit() or not targetWord.replace(' ', '').isalpha():\n",
    "                print(\"Error, el valor debe ser una cadena de texto\")\n",
    "                clearWindow()\n",
    "                continue \n",
    "            else:\n",
    "                result = search_and_print(wordsList, targetWord)\n",
    "                if result:\n",
    "                    break\n",
    "                else:\n",
    "                    clearWindow()\n",
    "                    continue\n",
    "        except KeyboardInterrupt:\n",
    "            print(\"Programa interrumpido por el usuario. Cerrando...\")\n",
    "            break\n",
    "        except Exception as e:\n",
    "            print(f\"Ocurrió un error inesperado: {e}\")\n",
    "            break\n",
    "\n",
    "questText() #Llamada a la funcion que inicia el proceso\n",
    "\n",
    "\n"
   ]
  },
  {
   "cell_type": "code",
   "execution_count": 8,
   "id": "2fd495d7",
   "metadata": {},
   "outputs": [
    {
     "name": "stdout",
     "output_type": "stream",
     "text": [
      "[9, 18, 27, 36, 45]\n"
     ]
    }
   ],
   "source": [
    "\"\"\"\n",
    "4.Genera una función que calcule la diferencia entre los valores de dos listas. Usa la función map(). \n",
    "\"\"\"\n",
    "\n",
    "listOne = [10,20,30,40,50]\n",
    "listTwo = [1,2,3,4,5]\n",
    "\n",
    "listResult = list(map(lambda diferent: diferent[0] - diferent[1], zip(listOne, listTwo)))\n",
    "print(listResult)\n"
   ]
  },
  {
   "cell_type": "code",
   "execution_count": null,
   "id": "ffe31603",
   "metadata": {},
   "outputs": [
    {
     "name": "stdout",
     "output_type": "stream",
     "text": [
      "(6.0, 'aprobado')\n"
     ]
    }
   ],
   "source": [
    "\"\"\"\n",
    "5.Escribe una función que tome una lista de números como parámetro y un valor opcional nota_aprobado (por defecto 5).\n",
    "La función debe calcular la media de los números en la lista y determinar si la media es mayor o igual que nota_aprobado.\n",
    "Si es así, el estado será \"aprobado\"; de lo contrario, \"suspenso\". \n",
    "La función debe devolver una tupla que contenga la media y el estado. \n",
    "\"\"\"\n",
    "\n",
    "numberList = [3,7,1,9,10]\n",
    "notaAprobado = 5\n",
    "def calculateAverage(numberList,notaAprobado):\n",
    "    resultCalculate = sum(numberList) / len(numberList)\n",
    "    if resultCalculate >= notaAprobado:\n",
    "        result = \"aprobado\"\n",
    "    else:\n",
    "        result = \"suspenso\"\n",
    "    return (resultCalculate,result)\n",
    "print(calculateAverage(numberList,notaAprobado))\n"
   ]
  },
  {
   "cell_type": "code",
   "execution_count": 88,
   "id": "96fb27ba",
   "metadata": {},
   "outputs": [
    {
     "name": "stdout",
     "output_type": "stream",
     "text": [
      "1405006117752879898543142606244511569936384000000000\n"
     ]
    }
   ],
   "source": [
    "\"\"\" \n",
    "6.Escribe una función que calcule el factorial de un número de manera recursiva.\n",
    "\"\"\"\n",
    "\n",
    "def callNumber():\n",
    "    while True:\n",
    "        try:\n",
    "            inputNumber = int(input(\"Ingrese un número para calcular su factorial: \"))\n",
    "            if inputNumber.numerator or not inputNumber.replace(' ', ''):\n",
    "                return inputNumber\n",
    "            else:\n",
    "                print(\"Error, el valor debe ser un número entero\")\n",
    "                clearWindow()\n",
    "                continue\n",
    "        except ValueError:\n",
    "            print(\"Error, el valor debe ser un número entero\")\n",
    "            clearWindow()\n",
    "            continue\n",
    "        except KeyboardInterrupt:\n",
    "            print(\"Programa interrumpido por el usuario. Cerrando...\")\n",
    "            break\n",
    "        except Exception as e:\n",
    "            print(f\"Ocurrió un error inesperado: {e}\")\n",
    "            break\n",
    "\n",
    "\n",
    "def factorialCalculate(number):\n",
    "    if number < 0:\n",
    "        return \"Error, el número no puede ser negativo\"\n",
    "    elif number == 0 or number == 1:\n",
    "        return 1\n",
    "    else:\n",
    "        return number * factorialCalculate(number - 1)\n",
    "\n",
    "print(factorialCalculate(callNumber()))"
   ]
  },
  {
   "cell_type": "code",
   "execution_count": 14,
   "id": "5bec6f97",
   "metadata": {},
   "outputs": [
    {
     "name": "stdout",
     "output_type": "stream",
     "text": [
      "<class 'str'>\n",
      "['como estas', 'hola mundo', 'buenos dias']\n"
     ]
    }
   ],
   "source": [
    "\"\"\"\" \n",
    "7.Genera una función que convierta una lista de tuplas a una lista de strings. Usa la función map().\n",
    "\"\"\"\n",
    "tupleList = [(\"como\",\"estas\"),(\"hola\",\"mundo\"),(\"buenos\",\"dias\")]\n",
    "def tupleconvert(tuples):\n",
    "    result = list(map(' '.join, tuples))\n",
    "    print(type(result[0]))\n",
    "    return result\n",
    "print(tupleconvert(tupleList))"
   ]
  },
  {
   "cell_type": "code",
   "execution_count": null,
   "id": "a4365240",
   "metadata": {},
   "outputs": [
    {
     "name": "stdout",
     "output_type": "stream",
     "text": [
      "El resultado de la división es: 100.0\n"
     ]
    }
   ],
   "source": [
    "\"\"\"\" \n",
    "8.Escribe un programa que pida al usuario dos números e intente dividirlos. Si el usuario ingresa un valor no numérico\n",
    " o intenta dividir por cero, maneja esas excepciones de manera adecuada y muestra un mensaje \n",
    " indicando si la división fue exitosa o no.\n",
    "\"\"\"\n",
    "\n",
    "\n",
    "def recibeNumber():\n",
    "    while True:\n",
    "        try:\n",
    "            num1 = int(input(\"Escribe el primer número: \"))\n",
    "            num2 = int(input(\"Escribe el segundo número: \"))\n",
    "            divideNumbers(num1, num2)\n",
    "            break\n",
    "        except ValueError:\n",
    "            print(\"Error, el valor debe ser un número.\")\n",
    "            clearWindow()\n",
    "            \n",
    "        except KeyboardInterrupt:\n",
    "            print(\"Programa interrumpido por el usuario. Cerrando...\")\n",
    "            clearWindow()\n",
    "\n",
    "def divideNumbers(num1, num2):\n",
    "    try:\n",
    "        resultado = num1 / num2\n",
    "        print(f\"El resultado de la división es: {resultado}\")\n",
    "    except ZeroDivisionError:\n",
    "        print(\"Error, no se puede dividir entre cero.\")\n",
    "        clearWindow()\n",
    "    \n",
    "        \n",
    "recibeNumber()"
   ]
  },
  {
   "cell_type": "code",
   "execution_count": 23,
   "id": "5bf0fe74",
   "metadata": {},
   "outputs": [
    {
     "name": "stdout",
     "output_type": "stream",
     "text": [
      "['Jamster', 'Gato', 'Perro', 'Pajaro']\n"
     ]
    }
   ],
   "source": [
    "\"\"\" \n",
    "9.Escribe una función que tome una lista de nombres de mascotas como parámetro y devuelva una nueva lista excluyendo \n",
    "ciertas mascotas prohibidas en España. \n",
    "La lista de mascotas a excluir es [\"Mapache\", \"Tigre\", \"Serpiente Pitón\", \"Cocodrilo\", \"Oso\"]. Usa la función filter().\n",
    "\"\"\"\n",
    "\n",
    "listNameAnimals = [\"Jamster\", \"Tigre\", \"Gato\", \"Perro\", \"Cocodrilo\", \"Pajaro\"]\n",
    "def excludeAnimals(animals):\n",
    "    excludes = [\"Mapache\", \"Tigre\", \"Serpiente Pitón\", \"Cocodrilo\", \"Oso\"]\n",
    "    result = list(filter(lambda names: names not in excludes,animals))\n",
    "    print(result)\n",
    "\n",
    "excludeAnimals(listNameAnimals)"
   ]
  },
  {
   "cell_type": "code",
   "execution_count": null,
   "id": "827036a7",
   "metadata": {},
   "outputs": [
    {
     "name": "stdout",
     "output_type": "stream",
     "text": [
      "Error Lista vacia\n"
     ]
    }
   ],
   "source": [
    "\"\"\" \n",
    "10.Escribe una función que reciba una lista de números y calcule su promedio. Si la lista está vacía, lanza una excepción personalizada y\n",
    " maneja el error adecuadamente.\n",
    "\"\"\"\n",
    "listNumbers = [10, 30, 50, 9]\n",
    "class NoInList(Exception):\n",
    "    pass\n",
    "def computeaverage(numbers):\n",
    "    try:\n",
    "        if not numbers:\n",
    "            raise NoInList(\"Lista vacia\")\n",
    "        calculate = sum(numbers) / len(numbers)\n",
    "        print(f\"El promedio es: {calculate}\")\n",
    "\n",
    "    except NoInList as e:\n",
    "        print(f\"Error {e}\")\n",
    "    except ZeroDivisionError:\n",
    "        print(\"La lista esta vacia\")\n",
    "    except TypeError:\n",
    "        print(\"algo a salido mal\")\n",
    "\n",
    "\n",
    "\n",
    "\n",
    "\n",
    "\n",
    "computeaverage(listNumbers)"
   ]
  },
  {
   "cell_type": "code",
   "execution_count": null,
   "id": "2bcbf0a7",
   "metadata": {},
   "outputs": [
    {
     "name": "stdout",
     "output_type": "stream",
     "text": [
      "Su edad es 3 años\n"
     ]
    }
   ],
   "source": [
    "\"\"\" \n",
    "11.Escribe un programa que pida al usuario que introduzca su edad. Si el usuario ingresa un valor no numérico o un valor fuera\n",
    " del rango esperado (por ejemplo, menor que 0 o mayor que 120), maneja las excepciones adecuadamente.\n",
    "\"\"\"\n",
    "\n",
    "def callAge():\n",
    "    inputNumber = int(input(\"Ingrese su edad: \"))\n",
    "    if  inputNumber <= 0 or inputNumber >= 120:\n",
    "        print(\"El valor no puede ser menor de 1 ni mayor de 119\")\n",
    "        clearWindow()\n",
    "        callAge()\n",
    "    elif inputNumber.numerator or not inputNumber.replace(' ', ''):\n",
    "        print(f\"Su edad es {inputNumber} años\")\n",
    "    else:\n",
    "        print(\"Error, el valor debe ser un número entero\")\n",
    "        clearWindow()\n",
    "        return\n",
    "def questNumberAge():\n",
    "    while True:\n",
    "        try:\n",
    "            if callAge():\n",
    "                continue\n",
    "            else:\n",
    "                break \n",
    "            \n",
    "        except ValueError:\n",
    "            print(\"Error, el valor debe ser un número entero\")\n",
    "            clearWindow()\n",
    "            continue\n",
    "        except KeyboardInterrupt:\n",
    "            print(\"Programa interrumpido por el usuario. Cerrando...\")\n",
    "            break\n",
    "        except Exception as e:\n",
    "            print(f\"Ocurrió un error inesperado: {e}\")\n",
    "            break\n",
    "\n",
    "\n",
    "questNumberAge()"
   ]
  },
  {
   "cell_type": "code",
   "execution_count": null,
   "id": "e49ed376",
   "metadata": {},
   "outputs": [
    {
     "name": "stdout",
     "output_type": "stream",
     "text": [
      "[4, 2, 3, 5, 2, 6]\n"
     ]
    }
   ],
   "source": [
    "\"\"\" \n",
    "12.Genera una función que, al recibir una frase, devuelva una lista con la longitud de cada palabra. Usa la función map().\n",
    "\"\"\"\n",
    "text = \"Esta es una frase de prueba\"\n",
    "def lengthText(listText):\n",
    "    result = listText.split()\n",
    "\n",
    "    print(list(map(len,result)))\n",
    "\n",
    "lengthText(text)"
   ]
  },
  {
   "cell_type": "code",
   "execution_count": null,
   "id": "44670df6",
   "metadata": {},
   "outputs": [
    {
     "name": "stdout",
     "output_type": "stream",
     "text": [
      "[('d', 'D'), ('u', 'U'), ('e', 'E'), ('r', 'R'), ('o', 'O'), ('b', 'B'), ('n', 'N'), ('t', 'T'), ('a', 'A'), ('p', 'P'), ('x', 'X'), ('s', 'S')]\n"
     ]
    }
   ],
   "source": [
    "\"\"\" \n",
    "13.Genera una función que, para un conjunto de caracteres,\n",
    " devuelva una lista de tuplas con cada letra en mayúsculas y minúsculas. Las letras no pueden estar repetidas.\n",
    " Usa la función map().\n",
    "\"\"\"\n",
    "\n",
    "\n",
    "\n",
    "def breakdownText():\n",
    "    text = (\"Este es un Texto de Prueba\")\n",
    "    filterList = filter(lambda rest: rest != \" \" , text)\n",
    "    breakdown = list(set(map(lambda rest: ( rest.lower(), rest.upper()), filterList)))\n",
    "   \n",
    "        \n",
    "        \n",
    "    print(breakdown)\n",
    "\n",
    "breakdownText()\n",
    "\n"
   ]
  },
  {
   "cell_type": "code",
   "execution_count": null,
   "id": "51d56996",
   "metadata": {},
   "outputs": [
    {
     "name": "stdout",
     "output_type": "stream",
     "text": [
      "Solo se permite una letra\n"
     ]
    }
   ],
   "source": [
    "\"\"\" \n",
    "14.Crea una función que retorne las palabras de una lista que comiencen con una letra en específico. Usa la función filter().\n",
    "\"\"\"\n",
    "\n",
    "text = [\"Este\", \"lago\", \"Es\", \"muy\", \"largo\"]\n",
    "excludes = \"e\"\n",
    "def returnList(listText, excludesText):\n",
    "    try:\n",
    "        result = list(filter(lambda words: words.lower()[0] == excludesText.lower(), listText))    \n",
    "        if excludesText == \" \" or excludesText == \"\" or len(excludesText) > 1 or len(excludesText) < 1:\n",
    "            print(\"Solo se permite una letra\")\n",
    "            clearWindow()\n",
    "        elif len(result) == 0:\n",
    "            print(\"No se encontraron palabras que comienzan con la letra\", excludesText)\n",
    "            clearWindow()\n",
    "        else:\n",
    "            print(result)\n",
    "    except Exception:\n",
    "        print(f\"No se encontraron palabras que comienzan con la letra\", excludesText)\n",
    "        clearWindow()        \n",
    "    except KeyboardInterrupt:\n",
    "        print(\"Programa interrumpido por el usuario. Cerrando...\")\n",
    "        clearWindow()\n",
    "    except TypeError:\n",
    "        print(\"Ha introducido un valor no válido\")\n",
    "        clearWindow()\n",
    "    except ValueError:\n",
    "        print(\"Ha introducido un valor no válido\")\n",
    "        clearWindow()\n",
    "    except AttributeError:\n",
    "        print(\"Ha introducido un valor no válido\")\n",
    "        clearWindow()\n",
    "\n",
    "\n",
    "returnList(text, excludes)"
   ]
  },
  {
   "cell_type": "code",
   "execution_count": 93,
   "id": "0fc7f988",
   "metadata": {},
   "outputs": [
    {
     "name": "stdout",
     "output_type": "stream",
     "text": [
      "[4, 5, 6, 7, 8]\n"
     ]
    }
   ],
   "source": [
    "\"\"\"     \n",
    "15.Crea una función lambda que sume 3 a cada número de una lista dada.\n",
    "\"\"\"\n",
    "listNum = [1, 2, 3, 4, 5]\n",
    "result = list(map(lambda num: num + 3, listNum))\n",
    "\n",
    "print(result)\n"
   ]
  },
  {
   "cell_type": "code",
   "execution_count": null,
   "id": "fd6cff6a",
   "metadata": {},
   "outputs": [
    {
     "name": "stdout",
     "output_type": "stream",
     "text": [
      "['frase', 'ejemplo']\n"
     ]
    }
   ],
   "source": [
    "\"\"\" \n",
    "16.Escribe una función que tome una cadena de texto y un número entero n como parámetros y devuelva una lista de todas las \n",
    "palabras que sean más largas que n. Usa la función filter().\n",
    "\"\"\"\n",
    "text = \"Esta es una frase de ejemplo\"\n",
    "n = 4\n",
    "def calculateText(text, n):\n",
    "    try:\n",
    "        result = list(filter(lambda word : len(word) > n, text.split()))\n",
    "        print(result)\n",
    "    except Exception:\n",
    "        print(\"Ha introducido un valor no válido\")\n",
    "        clearWindow()\n",
    "    except KeyboardInterrupt:\n",
    "        print(\"Programa interrumpido por el usuario. Cerrando...\")\n",
    "        clearWindow()\n",
    "    except TypeError:\n",
    "        print(\"Ha introducido un valor no válido\")\n",
    "        clearWindow()\n",
    "\n",
    "\n",
    "calculateText(text, n)"
   ]
  },
  {
   "cell_type": "code",
   "execution_count": null,
   "id": "84234e7d",
   "metadata": {},
   "outputs": [
    {
     "name": "stdout",
     "output_type": "stream",
     "text": [
      "5327\n"
     ]
    }
   ],
   "source": [
    "\"\"\" \n",
    "17.Crea una función que tome una lista de dígitos y devuelva el número correspondiente. Por ejemplo, [5,7,2] corresponde\n",
    "al número 572. Usa la función reduce().\n",
    "\"\"\"\n",
    "from functools import reduce\n",
    "\n",
    "ListNum = [5,3,2,7]\n",
    "def calculateNumber(listNum):\n",
    "    try:\n",
    "        result = reduce(lambda num1, num2 : num1* 10 + num2, listNum)\n",
    "        print(result)\n",
    "\n",
    "    except KeyboardInterrupt:\n",
    "        print(\"Programa interrumpido por el usuario. Cerrando...\")\n",
    "        clearWindow()\n",
    "    except TypeError:\n",
    "        print(\"Ha introducido un valor no válido\")\n",
    "        clearWindow()\n",
    "    except Exception:\n",
    "        print(\"Ha introducido un valor no válido\")\n",
    "        clearWindow()\n",
    "\n",
    "calculateNumber(ListNum)"
   ]
  },
  {
   "cell_type": "code",
   "execution_count": 5,
   "id": "4f78daaa",
   "metadata": {},
   "outputs": [
    {
     "name": "stdout",
     "output_type": "stream",
     "text": [
      "[{'nombre': 'Alvaro', 'edad': 18, 'calificacion': 92}, {'nombre': 'Pedro', 'edad': 20, 'calificacion': 95}]\n"
     ]
    }
   ],
   "source": [
    "\"\"\"\n",
    "18.Escribe un programa en Python que cree una lista de diccionarios con información de estudiantes (nombre, edad, calificación)\n",
    "y use filter para extraer a los estudiantes con una calificación mayor o igual a 90.\n",
    "\"\"\"\n",
    "\n",
    "listStudents = {\n",
    "    \"Estudiante1\": {\"nombre\": \"Alvaro\", \"edad\": 18, \"calificacion\": 92},\n",
    "    \"Estudiante2\": {\"nombre\": \"Estevan\", \"edad\": 19, \"calificacion\": 85},\n",
    "    \"Estudiante3\": {\"nombre\": \"Pedro\", \"edad\": 20, \"calificacion\": 95},\n",
    "    \"Estudiante4\": {\"nombre\": \"Ana\", \"edad\": 17, \"calificacion\": 88}\n",
    "}\n",
    "def filterStudents(students):\n",
    "    result = list(filter(lambda student: student[\"calificacion\"] >= 90, students.values()))\n",
    "    print(result)\n",
    "\n",
    "filterStudents(listStudents)"
   ]
  },
  {
   "cell_type": "code",
   "execution_count": 6,
   "id": "0ea41c7c",
   "metadata": {},
   "outputs": [
    {
     "name": "stdout",
     "output_type": "stream",
     "text": [
      "[1, 3, 5, 7, 9]\n"
     ]
    }
   ],
   "source": [
    "\"\"\" \n",
    "19.Crea una función lambda que filtre los números impares de una lista dada.\n",
    "\"\"\"\n",
    "listNum = [1, 2, 3, 4, 5, 6, 7, 8, 9, 10]\n",
    "result = list(filter(lambda num: num %2 !=0, listNum))\n",
    "print(result)"
   ]
  },
  {
   "cell_type": "code",
   "execution_count": 14,
   "id": "ce96d105",
   "metadata": {},
   "outputs": [
    {
     "name": "stdout",
     "output_type": "stream",
     "text": [
      "[1, 3, 5, 7, 9]\n"
     ]
    }
   ],
   "source": [
    "\"\"\" \n",
    "20.Para una lista con elementos de tipo integer y string, obtén una nueva lista solo con los valores int. Usa la función filter().\n",
    "\"\"\"\n",
    "import string\n",
    "\n",
    "\n",
    "listValors = [1, \"2\", 3, \"4\", 5, \"6\", 7, \"8\", 9, \"10\"]\n",
    "def filterList(listValors):\n",
    "    result = list(filter(lambda value : isinstance(value, int), listValors))\n",
    "    print(result)\n",
    "\n",
    "filterList(listValors)"
   ]
  },
  {
   "cell_type": "code",
   "execution_count": 18,
   "id": "eeeb0e85",
   "metadata": {},
   "outputs": [
    {
     "name": "stdout",
     "output_type": "stream",
     "text": [
      "4\n"
     ]
    }
   ],
   "source": [
    "\"\"\" \n",
    "21.Crea una función que calcule el cubo de un número dado mediante una función lambda.\n",
    "\"\"\"\n",
    "number = 2\n",
    "def calculetecube(number):\n",
    "    result = lambda cube:cube ** number \n",
    "    print(result(number))\n",
    "\n",
    "calculetecube(number)"
   ]
  },
  {
   "cell_type": "code",
   "execution_count": null,
   "id": "c4b91e5e",
   "metadata": {},
   "outputs": [
    {
     "name": "stdout",
     "output_type": "stream",
     "text": [
      "10395\n"
     ]
    }
   ],
   "source": [
    "\"\"\" \n",
    "22.Dada una lista numérica, obtén el producto total de los valores. Usa la función reduce().\n",
    "\"\"\"\n",
    "listNum = [3, 5, 7, 9, 11]\n",
    "\n",
    "def productCalculate(listNum):\n",
    "    result = reduce(lambda num1, num2 : num1 * num2, listNum)\n",
    "    print(result)\n",
    "\n",
    "productCalculate(listNum)"
   ]
  },
  {
   "cell_type": "code",
   "execution_count": 29,
   "id": "f70a96fd",
   "metadata": {},
   "outputs": [
    {
     "name": "stdout",
     "output_type": "stream",
     "text": [
      "Probando reduce en Python\n"
     ]
    }
   ],
   "source": [
    "\"\"\" \n",
    "23.Concatena una lista de palabras. Usa la función reduce().\n",
    "\"\"\"\n",
    "arguments = [\"Probando\", \"reduce\", \"en\", \"Python\"]\n",
    "def uniteWords(arguments):\n",
    "    result = reduce(lambda word1 , word2 : word1 + \" \" + word2, arguments)\n",
    "    print(result)\n",
    "\n",
    "uniteWords(arguments)"
   ]
  },
  {
   "cell_type": "code",
   "execution_count": 34,
   "id": "30b5cfed",
   "metadata": {},
   "outputs": [
    {
     "name": "stdout",
     "output_type": "stream",
     "text": [
      "-11\n"
     ]
    }
   ],
   "source": [
    "\"\"\" \n",
    "24.Calcula la diferencia total en los valores de una lista. Usa la función reduce().\n",
    "\"\"\"\n",
    "listNum = [29, 15, 12, 8, 5]\n",
    "def calculateDifference(listNum):\n",
    "    result = reduce(lambda num1, num2 : num1 - num2, listNum)\n",
    "    print(result)\n",
    "\n",
    "calculateDifference(listNum)"
   ]
  },
  {
   "cell_type": "code",
   "execution_count": null,
   "id": "912aa879",
   "metadata": {},
   "outputs": [],
   "source": [
    "\"\"\" \n",
    "Crea una función que cuente el número de caracteres en una cadena de texto dada.\n",
    "\"\"\"\n",
    "text = \"Este es un texto de prueba\"\n",
    "def countCharacters(text):\n",
    "    print(len(text))\n",
    "\n",
    "countCharacters(text)\n"
   ]
  },
  {
   "cell_type": "code",
   "execution_count": null,
   "id": "25065fa1",
   "metadata": {},
   "outputs": [
    {
     "name": "stdout",
     "output_type": "stream",
     "text": [
      "2\n"
     ]
    }
   ],
   "source": [
    "\"\"\" \n",
    "26. Crea una función lambda que calcule el resto de la división entre dos números dados.\n",
    "\"\"\"\n",
    "result = lambda num1, num2 : num1 % num2\n",
    "print(result(2 ,  20))\n",
    "\n"
   ]
  },
  {
   "cell_type": "code",
   "execution_count": 40,
   "id": "a56cce16",
   "metadata": {},
   "outputs": [
    {
     "name": "stdout",
     "output_type": "stream",
     "text": [
      "5.6\n"
     ]
    }
   ],
   "source": [
    "\"\"\" \n",
    "27. Crea una función que calcule el promedio de una lista de números.\n",
    "\"\"\"\n",
    "\n",
    "def calculatePromedio(numbers):\n",
    "    print(sum(numbers) / len(numbers)) \n",
    "\n",
    "calculatePromedio([2 ,  3,  4, 9,  10])"
   ]
  },
  {
   "cell_type": "code",
   "execution_count": 12,
   "id": "d3231887",
   "metadata": {},
   "outputs": [
    {
     "data": {
      "text/plain": [
       "2"
      ]
     },
     "execution_count": 12,
     "metadata": {},
     "output_type": "execute_result"
    }
   ],
   "source": [
    "\"\"\" \n",
    "28.Crea una función que busque y devuelva el primer elemento duplicado en una lista dada.\n",
    "\"\"\"\n",
    "def serchInitList(items):\n",
    "    numbers = set()\n",
    "    for item in items:\n",
    "        if item in numbers:\n",
    "            return item\n",
    "        numbers.add(item)\n",
    "    return None\n",
    "        \n",
    "serchInitList([1, 2, 3, 4, 5, 2, 6, 7, 3, 9, 4])"
   ]
  },
  {
   "cell_type": "code",
   "execution_count": 19,
   "id": "a647d827",
   "metadata": {},
   "outputs": [
    {
     "data": {
      "text/plain": [
       "'#####8665'"
      ]
     },
     "execution_count": 19,
     "metadata": {},
     "output_type": "execute_result"
    }
   ],
   "source": [
    "\"\"\" \n",
    "29.Crea una función que convierta una variable en una cadena de texto y enmascare todos los caracteres con el carácter '#' excepto los últimos cuatro.\n",
    "\"\"\"\n",
    "listText = 567788665\n",
    "def convertString(listText):\n",
    "    strText = str(listText)\n",
    "    return \"#\" * (len(strText) - 4) + strText[-4:]\n",
    "convertString(listText)"
   ]
  },
  {
   "cell_type": "code",
   "execution_count": null,
   "id": "8629e798",
   "metadata": {},
   "outputs": [
    {
     "name": "stdout",
     "output_type": "stream",
     "text": [
      "False\n"
     ]
    }
   ],
   "source": [
    "\"\"\" \n",
    "30.Crea una función que determine si dos palabras son anagramas, es decir, si están formadas por las mismas letras pero en diferente orden.\n",
    "\"\"\"\n",
    "def isAnagram(word1, word2):\n",
    "    if sorted(word1) == sorted(word2):\n",
    "        return True\n",
    "    else:\n",
    "        return False\n",
    "\n",
    "print(isAnagram(\"listen\", \"silent\"))"
   ]
  },
  {
   "cell_type": "code",
   "execution_count": null,
   "id": "8f2a25cd",
   "metadata": {},
   "outputs": [
    {
     "ename": "Exception",
     "evalue": "El nombre 'maa' no se encuentra en la lista.",
     "output_type": "error",
     "traceback": [
      "\u001b[31m---------------------------------------------------------------------------\u001b[39m",
      "\u001b[31mException\u001b[39m                                 Traceback (most recent call last)",
      "\u001b[36mCell\u001b[39m\u001b[36m \u001b[39m\u001b[32mIn[26]\u001b[39m\u001b[32m, line 24\u001b[39m\n\u001b[32m     22\u001b[39m         names.append(name)\n\u001b[32m     23\u001b[39m     \u001b[38;5;28;01mreturn\u001b[39;00m names\n\u001b[32m---> \u001b[39m\u001b[32m24\u001b[39m \u001b[43mnemeSearch\u001b[49m\u001b[43m(\u001b[49m\u001b[43minputNames\u001b[49m\u001b[43m(\u001b[49m\u001b[43m)\u001b[49m\u001b[43m,\u001b[49m\u001b[43m \u001b[49m\u001b[38;5;28;43minput\u001b[39;49m\u001b[43m(\u001b[49m\u001b[33;43m\"\u001b[39;49m\u001b[33;43mIngrese el nombre a buscar: \u001b[39;49m\u001b[33;43m\"\u001b[39;49m\u001b[43m)\u001b[49m\u001b[43m)\u001b[49m\n",
      "\u001b[36mCell\u001b[39m\u001b[36m \u001b[39m\u001b[32mIn[26]\u001b[39m\u001b[32m, line 12\u001b[39m, in \u001b[36mnemeSearch\u001b[39m\u001b[34m(names, name)\u001b[39m\n\u001b[32m     10\u001b[39m     \u001b[38;5;28mprint\u001b[39m(\u001b[33mf\u001b[39m\u001b[33m\"\u001b[39m\u001b[33mEl nombre \u001b[39m\u001b[38;5;132;01m{\u001b[39;00mname\u001b[38;5;132;01m}\u001b[39;00m\u001b[33m fue encontrado en la lista.\u001b[39m\u001b[33m\"\u001b[39m)\n\u001b[32m     11\u001b[39m \u001b[38;5;28;01melse\u001b[39;00m:\n\u001b[32m---> \u001b[39m\u001b[32m12\u001b[39m     \u001b[38;5;28;01mraise\u001b[39;00m \u001b[38;5;167;01mException\u001b[39;00m(\u001b[33mf\u001b[39m\u001b[33m\"\u001b[39m\u001b[33mEl nombre \u001b[39m\u001b[33m'\u001b[39m\u001b[38;5;132;01m{\u001b[39;00mname\u001b[38;5;132;01m}\u001b[39;00m\u001b[33m'\u001b[39m\u001b[33m no se encuentra en la lista.\u001b[39m\u001b[33m\"\u001b[39m)\n",
      "\u001b[31mException\u001b[39m: El nombre 'maa' no se encuentra en la lista."
     ]
    }
   ],
   "source": [
    "\"\"\" \n",
    "31.Crea una función que solicite al usuario ingresar una lista de nombres y luego un nombre para buscar en esa lista. \n",
    "Si el nombre está en la lista, imprime un mensaje indicando que fue encontrado; de lo contrario, lanza una excepción.\n",
    "\"\"\"\n",
    "def nemeSearch(names, name):\n",
    "    if name in names:\n",
    "        print(f\"El nombre {name} fue encontrado en la lista.\")\n",
    "    else:\n",
    "        raise Exception(f\"El nombre '{name}' no se encuentra en la lista.\")\n",
    "    \n",
    "\n",
    "\n",
    "def inputNames():\n",
    "    names = []\n",
    "    while True:\n",
    "        name = input(\"Ingrese un nombre (o presione ENTER para finalizar): \")\n",
    "        if not name:\n",
    "            break\n",
    "        names.append(name)\n",
    "    return names\n",
    "nemeSearch(inputNames(), input(\"Ingrese el nombre a buscar: \"))"
   ]
  }
 ],
 "metadata": {
  "kernelspec": {
   "display_name": "base",
   "language": "python",
   "name": "python3"
  },
  "language_info": {
   "codemirror_mode": {
    "name": "ipython",
    "version": 3
   },
   "file_extension": ".py",
   "mimetype": "text/x-python",
   "name": "python",
   "nbconvert_exporter": "python",
   "pygments_lexer": "ipython3",
   "version": "3.13.2"
  }
 },
 "nbformat": 4,
 "nbformat_minor": 5
}
